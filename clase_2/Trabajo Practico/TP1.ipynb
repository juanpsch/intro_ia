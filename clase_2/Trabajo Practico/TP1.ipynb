{
 "cells": [
  {
   "cell_type": "markdown",
   "metadata": {},
   "source": [
    "## Trabajo práctico 1\n",
    "1) Tomar las primeras 63 componentes principales y calcular la varianza contemplada. \n",
    "Realizar las operaciones internas con numpy.linalg.\n",
    "2) Implementar kmeans con numpy. Agrupar el dataset transformado (ejercicio de PCA) y \n",
    "agrupar en clusters de k=2 y 6. Graficar los casos de k=2 y k=6 con las primeras dos \n",
    "componentes principales.\n",
    "3) Comparar los resultados anteriores con lo visto en clase.\n",
    "4) Con las implementaciones de sklearn, tomar las componentes principales que capturen el \n",
    "90% de la varianza y aplicar kmeans para agrupar los dígitos en 10 clusters. Analizar los \n",
    "resultados. \n",
    "Deben maximizarse la cantidad de operaciones vectorizadas en las implementaciones. La \n",
    "notebook debe ser comentada, no únicamente el código. \n",
    "Datasets: 1 y 2 usar Human Activity Recognition. 3 MNIST. \n",
    "Entrega: Debe subirse 1 Jupyter Notebook a Github, repositorio público. \n",
    "Deadline: En 2 clases. \n"
   ]
  },
  {
   "cell_type": "code",
   "execution_count": null,
   "metadata": {},
   "outputs": [],
   "source": []
  }
 ],
 "metadata": {
  "language_info": {
   "name": "python"
  },
  "orig_nbformat": 4
 },
 "nbformat": 4,
 "nbformat_minor": 2
}
